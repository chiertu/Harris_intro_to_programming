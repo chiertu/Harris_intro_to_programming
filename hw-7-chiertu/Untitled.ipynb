{
 "cells": [
  {
   "cell_type": "code",
   "execution_count": null,
   "metadata": {},
   "outputs": [],
   "source": [
    "#!/usr/bin/env python\n",
    "import pandas as pd\n",
    "import requests\n",
    "from bs4 import BeautifulSoup as bs\n",
    "resp = requests.get(\"http://shakespeare.mit.edu/romeo_juliet/full.html\")\n",
    "soup = bs(resp.content, \"html.parser\")\n",
    "rows = soup.find_all(\"a\")\n",
    "# list the characters that says the \"speech\"\n",
    "roles = [x.contents[0].contents[0] for x in rows if \"speech\" in str(x.get(\"name\"))]\n",
    "# list the line count of each \"speech\"\n",
    "speeches = [x.get('name') for x in rows]\n",
    "line = [x for x,y in enumerate(speeches) if \"speech\" in str(y)]\n",
    "line += [len(speeches)]\n",
    "line_m = line[:-1]\n",
    "lines = [line[x] - line_m[x-1] - 1 for x in range(1,len(line))]\n",
    "# sum up line count for each character and get the highest line count\n",
    "df = pd.DataFrame(\n",
    "    {\"roles\": roles,\n",
    "    \"lines\":lines})\n",
    "print(df.groupby([\"roles\"]).sum().sort_values(by = \"lines\", ascending = False).iloc[0])"
   ]
  },
  {
   "cell_type": "code",
   "execution_count": null,
   "metadata": {},
   "outputs": [],
   "source": []
  },
  {
   "cell_type": "code",
   "execution_count": null,
   "metadata": {
    "collapsed": true
   },
   "outputs": [],
   "source": []
  },
  {
   "cell_type": "code",
   "execution_count": null,
   "metadata": {},
   "outputs": [],
   "source": []
  },
  {
   "cell_type": "code",
   "execution_count": null,
   "metadata": {},
   "outputs": [],
   "source": []
  },
  {
   "cell_type": "code",
   "execution_count": null,
   "metadata": {
    "collapsed": true
   },
   "outputs": [],
   "source": []
  },
  {
   "cell_type": "code",
   "execution_count": null,
   "metadata": {
    "collapsed": true
   },
   "outputs": [],
   "source": []
  },
  {
   "cell_type": "code",
   "execution_count": null,
   "metadata": {
    "collapsed": true
   },
   "outputs": [],
   "source": []
  },
  {
   "cell_type": "code",
   "execution_count": null,
   "metadata": {
    "collapsed": true
   },
   "outputs": [],
   "source": []
  }
 ],
 "metadata": {
  "kernelspec": {
   "display_name": "Python 3",
   "language": "python",
   "name": "python3"
  },
  "language_info": {
   "codemirror_mode": {
    "name": "ipython",
    "version": 3
   },
   "file_extension": ".py",
   "mimetype": "text/x-python",
   "name": "python",
   "nbconvert_exporter": "python",
   "pygments_lexer": "ipython3",
   "version": "3.6.1"
  }
 },
 "nbformat": 4,
 "nbformat_minor": 2
}
